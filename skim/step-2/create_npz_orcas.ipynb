{
 "cells": [
  {
   "cell_type": "markdown",
   "metadata": {},
   "source": [
    "# Create new training `.npz` for LF-ORCAS-800K"
   ]
  },
  {
   "cell_type": "code",
   "execution_count": null,
   "metadata": {},
   "outputs": [],
   "source": [
    "import os\n",
    "import scipy.sparse as sp\n",
    "import numpy as np\n",
    "import pickle\n",
    "import json\n",
    "from tqdm import tqdm, trange\n",
    "\n",
    "import scipy.sparse as sp"
   ]
  },
  {
   "cell_type": "code",
   "execution_count": null,
   "metadata": {},
   "outputs": [],
   "source": [
    "# set the path to ORCAS slm generations rewrites file, trn embeddings, rewrite embeddings\n",
    "dataset_path = \"../../artifacts/step-1/slm-large-scale-inference/orcas\"\n",
    "\n",
    "# path to the original biased dataset\n",
    "original_dataset_path = \"../../datasets/orcas\""
   ]
  },
  {
   "cell_type": "code",
   "execution_count": null,
   "metadata": {},
   "outputs": [],
   "source": [
    "!ls {dataset_path}"
   ]
  },
  {
   "cell_type": "code",
   "execution_count": null,
   "metadata": {},
   "outputs": [],
   "source": [
    "# This file maps each rewrite/synthetic query index to its respective label for which it was generated for\n",
    "start_indices = np.load(f\"{dataset_path}/start_indices.npy\")\n",
    "start_indices.shape"
   ]
  },
  {
   "cell_type": "code",
   "execution_count": null,
   "metadata": {},
   "outputs": [],
   "source": [
    "start_indices"
   ]
  },
  {
   "cell_type": "code",
   "execution_count": null,
   "metadata": {},
   "outputs": [],
   "source": [
    "nbr_query_indices = np.load(f\"{dataset_path}/ngbr_indices_mat.npy\")\n",
    "nbr_query_scores = np.load(f\"{dataset_path}/ngbr_scores_mat.npy\")\n",
    "nbr_query_indices.shape, nbr_query_scores.shape"
   ]
  },
  {
   "cell_type": "code",
   "execution_count": null,
   "metadata": {},
   "outputs": [],
   "source": [
    "# normalize the score from [-1, 1] to [0, 1]\n",
    "nbr_query_scores = (nbr_query_scores + 1) / 2"
   ]
  },
  {
   "cell_type": "code",
   "execution_count": null,
   "metadata": {},
   "outputs": [],
   "source": [
    "nbr_query_scores.min(), nbr_query_scores.max(), nbr_query_scores.mean()"
   ]
  },
  {
   "cell_type": "code",
   "execution_count": null,
   "metadata": {},
   "outputs": [],
   "source": [
    "# Load the original biased trn_X_Y\n",
    "trn_X_Y = sp.load_npz(os.path.join(original_dataset_path, \"trn_X_Y.npz\"))\n",
    "trn_X_Y.shape"
   ]
  },
  {
   "cell_type": "code",
   "execution_count": null,
   "metadata": {},
   "outputs": [],
   "source": [
    "# load the generated synthetic queries/rewrites\n",
    "rewrites = [x.strip() for x in open(os.path.join(dataset_path, \"raw_rewrites.txt\"))]"
   ]
  },
  {
   "cell_type": "code",
   "execution_count": null,
   "metadata": {},
   "outputs": [],
   "source": [
    "rewrites[:5]"
   ]
  },
  {
   "cell_type": "code",
   "execution_count": null,
   "metadata": {},
   "outputs": [],
   "source": [
    "trn_doc = [x.strip() for x in open(os.path.join(original_dataset_path, \"raw/trn_X.txt\"), \"r\").readlines()]\n",
    "lbl = [x.strip() for x in open(os.path.join(original_dataset_path, \"raw/Y.txt\"), \"r\").readlines()]"
   ]
  },
  {
   "cell_type": "code",
   "execution_count": null,
   "metadata": {},
   "outputs": [],
   "source": [
    "trn_doc[:5], lbl[:5]"
   ]
  },
  {
   "cell_type": "code",
   "execution_count": null,
   "metadata": {},
   "outputs": [],
   "source": [
    "top_k = 10 # how many ngbrs to consider\n",
    "threshold = 0.8 # similarity threshold to filter noisy ngbrs\n",
    "# NOTE: you may tweak above values depending on your dataset! However, in our experiments, these values worked well :)"
   ]
  },
  {
   "cell_type": "markdown",
   "metadata": {},
   "source": [
    "## Now create the npz for the new dataset"
   ]
  },
  {
   "cell_type": "code",
   "execution_count": null,
   "metadata": {},
   "outputs": [],
   "source": [
    "pos_pairs = list()\n",
    "pos_scores = list()"
   ]
  },
  {
   "cell_type": "code",
   "execution_count": null,
   "metadata": {},
   "outputs": [],
   "source": [
    "for i in trange(start_indices.shape[0] - 1):\n",
    "    start_idx = start_indices[i]\n",
    "    end_idx = start_indices[i+1]\n",
    "    \n",
    "    query_indices = nbr_query_indices[start_idx : end_idx, :top_k].ravel()\n",
    "    query_scores = nbr_query_scores[start_idx : end_idx, :top_k].ravel()\n",
    "    mask = query_scores >= threshold\n",
    "    query_indices = query_indices[mask]\n",
    "    query_scores = query_scores[mask]\n",
    "    \n",
    "    if query_indices.shape[0] == 0:\n",
    "        continue\n",
    "        \n",
    "    perm = np.argsort(query_indices)\n",
    "    sort = query_indices[perm]\n",
    "    mask = np.concatenate([[True], sort[1:] != sort[:-1]])\n",
    "    query_indices = sort[mask]\n",
    "    query_scores = np.maximum.reduceat(query_scores[perm], mask.nonzero()[0])\n",
    "    \n",
    "    cur_label_array = np.ones((query_indices.shape[0],), dtype=np.int32) * i\n",
    "    cur_pairs = np.vstack((query_indices, cur_label_array)).T\n",
    "    pos_pairs.append(cur_pairs)\n",
    "    pos_scores.append(query_scores)"
   ]
  },
  {
   "cell_type": "code",
   "execution_count": null,
   "metadata": {},
   "outputs": [],
   "source": [
    "pos_pairs = np.concatenate(pos_pairs)\n",
    "pos_scores = np.concatenate(pos_scores)\n",
    "\n",
    "pos_pairs.shape, pos_scores.shape"
   ]
  },
  {
   "cell_type": "code",
   "execution_count": null,
   "metadata": {},
   "outputs": [],
   "source": [
    "synthetic_X_Y = sp.csr_matrix((pos_scores, (pos_pairs[:, 0], pos_pairs[:, 1])), shape=trn_X_Y.shape)"
   ]
  },
  {
   "cell_type": "code",
   "execution_count": null,
   "metadata": {},
   "outputs": [],
   "source": [
    "trn_and_synthetic_X_Y = synthetic_X_Y + trn_X_Y # combine click and synthetic data"
   ]
  },
  {
   "cell_type": "code",
   "execution_count": null,
   "metadata": {},
   "outputs": [],
   "source": [
    "trn_and_synthetic_X_Y = trn_and_synthetic_X_Y.tocoo()\n",
    "trn_and_synthetic_X_Y.data = np.clip(trn_and_synthetic_X_Y.data, 0, 1) # clip the .data values to 0 and 1\n",
    "trn_and_synthetic_X_Y = trn_and_synthetic_X_Y.tocsr()"
   ]
  },
  {
   "cell_type": "code",
   "execution_count": null,
   "metadata": {},
   "outputs": [],
   "source": [
    "# save the synthetic + click data training matrix\n",
    "sp.save_npz(os.path.join(dataset_path, \"trn_and_synthetic_X_Y.npz\"), trn_and_synthetic_X_Y)\n",
    "\n",
    "# Now train your favourite XC model using this new trn_and_synthetic_X_Y.npz training matrix"
   ]
  }
 ],
 "metadata": {
  "language_info": {
   "name": "python"
  }
 },
 "nbformat": 4,
 "nbformat_minor": 2
}
